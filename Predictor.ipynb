{
 "cells": [
  {
   "cell_type": "code",
   "id": "initial_id",
   "metadata": {
    "collapsed": true,
    "ExecuteTime": {
     "end_time": "2025-05-27T12:13:30.099851Z",
     "start_time": "2025-05-27T12:13:07.115169Z"
    }
   },
   "source": [
    "from curl_cffi import requests\n",
    "import yfinance as yf\n",
    "import pandas as pd\n",
    "import numpy as np\n",
    "from sklearn.ensemble import RandomForestClassifier\n",
    "from sklearn.metrics import precision_score\n",
    "import matplotlib.pyplot as plt\n",
    "\n",
    "session = requests.Session(impersonate=\"chrome\")\n",
    "\n",
    "sp500 = yf.Ticker(\"^GSPC\", session=session).history(period=\"max\")\n",
    "sp500 = sp500[[\"Open\", \"High\", \"Low\", \"Close\", \"Volume\"]]\n",
    "sp500.to_csv(\"sp500_data.csv\")\n"
   ],
   "outputs": [],
   "execution_count": 1
  },
  {
   "metadata": {
    "ExecuteTime": {
     "end_time": "2025-05-27T12:13:40.082869Z",
     "start_time": "2025-05-27T12:13:38.961620Z"
    }
   },
   "cell_type": "code",
   "source": "sp500 = pd.read_csv(\"sp500_data.csv\", index_col=0, parse_dates=True)",
   "id": "3755c1df4d0a504a",
   "outputs": [],
   "execution_count": 2
  },
  {
   "metadata": {
    "ExecuteTime": {
     "end_time": "2025-05-27T12:13:40.790408Z",
     "start_time": "2025-05-27T12:13:40.755559Z"
    }
   },
   "cell_type": "code",
   "source": "sp500\n",
   "id": "6c1b7128b9e2425c",
   "outputs": [
    {
     "data": {
      "text/plain": [
       "                                  Open         High          Low        Close  \\\n",
       "Date                                                                            \n",
       "1927-12-30 00:00:00-05:00    17.660000    17.660000    17.660000    17.660000   \n",
       "1928-01-03 00:00:00-05:00    17.760000    17.760000    17.760000    17.760000   \n",
       "1928-01-04 00:00:00-05:00    17.719999    17.719999    17.719999    17.719999   \n",
       "1928-01-05 00:00:00-05:00    17.549999    17.549999    17.549999    17.549999   \n",
       "1928-01-06 00:00:00-05:00    17.660000    17.660000    17.660000    17.660000   \n",
       "...                                ...          ...          ...          ...   \n",
       "2025-05-19 00:00:00-04:00  5902.879883  5968.609863  5895.689941  5963.600098   \n",
       "2025-05-20 00:00:00-04:00  5944.660156  5953.060059  5909.259766  5940.459961   \n",
       "2025-05-21 00:00:00-04:00  5910.180176  5938.370117  5830.910156  5844.609863   \n",
       "2025-05-22 00:00:00-04:00  5841.259766  5878.080078  5825.819824  5842.009766   \n",
       "2025-05-23 00:00:00-04:00  5781.890137  5829.509766  5767.410156  5802.819824   \n",
       "\n",
       "                               Volume  \n",
       "Date                                   \n",
       "1927-12-30 00:00:00-05:00           0  \n",
       "1928-01-03 00:00:00-05:00           0  \n",
       "1928-01-04 00:00:00-05:00           0  \n",
       "1928-01-05 00:00:00-05:00           0  \n",
       "1928-01-06 00:00:00-05:00           0  \n",
       "...                               ...  \n",
       "2025-05-19 00:00:00-04:00  4144010000  \n",
       "2025-05-20 00:00:00-04:00  4416850000  \n",
       "2025-05-21 00:00:00-04:00  5254250000  \n",
       "2025-05-22 00:00:00-04:00  5157050000  \n",
       "2025-05-23 00:00:00-04:00  4662820000  \n",
       "\n",
       "[24465 rows x 5 columns]"
      ],
      "text/html": [
       "<div>\n",
       "<style scoped>\n",
       "    .dataframe tbody tr th:only-of-type {\n",
       "        vertical-align: middle;\n",
       "    }\n",
       "\n",
       "    .dataframe tbody tr th {\n",
       "        vertical-align: top;\n",
       "    }\n",
       "\n",
       "    .dataframe thead th {\n",
       "        text-align: right;\n",
       "    }\n",
       "</style>\n",
       "<table border=\"1\" class=\"dataframe\">\n",
       "  <thead>\n",
       "    <tr style=\"text-align: right;\">\n",
       "      <th></th>\n",
       "      <th>Open</th>\n",
       "      <th>High</th>\n",
       "      <th>Low</th>\n",
       "      <th>Close</th>\n",
       "      <th>Volume</th>\n",
       "    </tr>\n",
       "    <tr>\n",
       "      <th>Date</th>\n",
       "      <th></th>\n",
       "      <th></th>\n",
       "      <th></th>\n",
       "      <th></th>\n",
       "      <th></th>\n",
       "    </tr>\n",
       "  </thead>\n",
       "  <tbody>\n",
       "    <tr>\n",
       "      <th>1927-12-30 00:00:00-05:00</th>\n",
       "      <td>17.660000</td>\n",
       "      <td>17.660000</td>\n",
       "      <td>17.660000</td>\n",
       "      <td>17.660000</td>\n",
       "      <td>0</td>\n",
       "    </tr>\n",
       "    <tr>\n",
       "      <th>1928-01-03 00:00:00-05:00</th>\n",
       "      <td>17.760000</td>\n",
       "      <td>17.760000</td>\n",
       "      <td>17.760000</td>\n",
       "      <td>17.760000</td>\n",
       "      <td>0</td>\n",
       "    </tr>\n",
       "    <tr>\n",
       "      <th>1928-01-04 00:00:00-05:00</th>\n",
       "      <td>17.719999</td>\n",
       "      <td>17.719999</td>\n",
       "      <td>17.719999</td>\n",
       "      <td>17.719999</td>\n",
       "      <td>0</td>\n",
       "    </tr>\n",
       "    <tr>\n",
       "      <th>1928-01-05 00:00:00-05:00</th>\n",
       "      <td>17.549999</td>\n",
       "      <td>17.549999</td>\n",
       "      <td>17.549999</td>\n",
       "      <td>17.549999</td>\n",
       "      <td>0</td>\n",
       "    </tr>\n",
       "    <tr>\n",
       "      <th>1928-01-06 00:00:00-05:00</th>\n",
       "      <td>17.660000</td>\n",
       "      <td>17.660000</td>\n",
       "      <td>17.660000</td>\n",
       "      <td>17.660000</td>\n",
       "      <td>0</td>\n",
       "    </tr>\n",
       "    <tr>\n",
       "      <th>...</th>\n",
       "      <td>...</td>\n",
       "      <td>...</td>\n",
       "      <td>...</td>\n",
       "      <td>...</td>\n",
       "      <td>...</td>\n",
       "    </tr>\n",
       "    <tr>\n",
       "      <th>2025-05-19 00:00:00-04:00</th>\n",
       "      <td>5902.879883</td>\n",
       "      <td>5968.609863</td>\n",
       "      <td>5895.689941</td>\n",
       "      <td>5963.600098</td>\n",
       "      <td>4144010000</td>\n",
       "    </tr>\n",
       "    <tr>\n",
       "      <th>2025-05-20 00:00:00-04:00</th>\n",
       "      <td>5944.660156</td>\n",
       "      <td>5953.060059</td>\n",
       "      <td>5909.259766</td>\n",
       "      <td>5940.459961</td>\n",
       "      <td>4416850000</td>\n",
       "    </tr>\n",
       "    <tr>\n",
       "      <th>2025-05-21 00:00:00-04:00</th>\n",
       "      <td>5910.180176</td>\n",
       "      <td>5938.370117</td>\n",
       "      <td>5830.910156</td>\n",
       "      <td>5844.609863</td>\n",
       "      <td>5254250000</td>\n",
       "    </tr>\n",
       "    <tr>\n",
       "      <th>2025-05-22 00:00:00-04:00</th>\n",
       "      <td>5841.259766</td>\n",
       "      <td>5878.080078</td>\n",
       "      <td>5825.819824</td>\n",
       "      <td>5842.009766</td>\n",
       "      <td>5157050000</td>\n",
       "    </tr>\n",
       "    <tr>\n",
       "      <th>2025-05-23 00:00:00-04:00</th>\n",
       "      <td>5781.890137</td>\n",
       "      <td>5829.509766</td>\n",
       "      <td>5767.410156</td>\n",
       "      <td>5802.819824</td>\n",
       "      <td>4662820000</td>\n",
       "    </tr>\n",
       "  </tbody>\n",
       "</table>\n",
       "<p>24465 rows × 5 columns</p>\n",
       "</div>"
      ]
     },
     "execution_count": 3,
     "metadata": {},
     "output_type": "execute_result"
    }
   ],
   "execution_count": 3
  },
  {
   "metadata": {
    "ExecuteTime": {
     "end_time": "2025-05-27T12:13:42.151651Z",
     "start_time": "2025-05-27T12:13:42.087623Z"
    }
   },
   "cell_type": "code",
   "source": [
    "#Feature Engineering\n",
    "sp500[\"Tomorrow\"] = sp500[\"Close\"].shift(-1)\n",
    "sp500[\"Target\"] = (sp500[\"Tomorrow\"] > sp500[\"Close\"]).astype(int)\n",
    "\n",
    "for window in [5, 10, 20, 50, 100]:\n",
    "    sp500[f\"MA_{window}\"] = sp500[\"Close\"].rolling(window).mean()\n",
    "    sp500[f\"Momentum_{window}\"] = sp500[\"Close\"] - sp500[\"Close\"].shift(window)\n",
    "    sp500[f\"Volatility_{window}\"] = sp500[\"Close\"].rolling(window).std()\n",
    "\n",
    "sp500 = sp500.dropna()\n"
   ],
   "id": "4e55f82d0ceef1c2",
   "outputs": [],
   "execution_count": 4
  },
  {
   "metadata": {
    "ExecuteTime": {
     "end_time": "2025-05-27T12:13:43.135667Z",
     "start_time": "2025-05-27T12:13:43.123562Z"
    }
   },
   "cell_type": "code",
   "source": [
    "#Preparing train test split\n",
    "features = [col for col in sp500.columns if col not in [\"Tomorrow\", \"Target\"]]\n",
    "train_size = int(len(sp500) * 0.8)\n",
    "train = sp500.iloc[:train_size]\n",
    "test = sp500.iloc[train_size:]"
   ],
   "id": "b38cff9991faec7a",
   "outputs": [],
   "execution_count": 5
  },
  {
   "metadata": {
    "ExecuteTime": {
     "end_time": "2025-05-27T12:15:04.971600Z",
     "start_time": "2025-05-27T12:13:44.182698Z"
    }
   },
   "cell_type": "code",
   "source": [
    "# Train the model\n",
    "model = RandomForestClassifier(n_estimators=500, min_samples_split=10, random_state=1)\n",
    "model.fit(train[features], train[\"Target\"])\n",
    "\n",
    "# Predict with default threshold 0.5\n",
    "preds = model.predict(test[features])\n",
    "\n",
    "# Evaluate precision, recall, accuracy, and F1-score\n",
    "from sklearn.metrics import precision_score, recall_score, accuracy_score, f1_score\n",
    "\n",
    "precision = precision_score(test[\"Target\"], preds)\n",
    "recall = recall_score(test[\"Target\"], preds)\n",
    "accuracy = accuracy_score(test[\"Target\"], preds)\n",
    "f1 = f1_score(test[\"Target\"], preds)\n",
    "\n",
    "print(f\"Precision: {precision:.3f}\")\n",
    "print(f\"Recall:    {recall:.3f}\")\n",
    "print(f\"Accuracy:  {accuracy:.3f}\")\n",
    "print(f\"F1 Score:  {f1:.3f}\")\n"
   ],
   "id": "536babdd0fe5313f",
   "outputs": [
    {
     "name": "stdout",
     "output_type": "stream",
     "text": [
      "Precision: 0.565\n",
      "Recall:    0.271\n",
      "Accuracy:  0.490\n",
      "F1 Score:  0.366\n"
     ]
    }
   ],
   "execution_count": 6
  },
  {
   "metadata": {
    "ExecuteTime": {
     "end_time": "2025-05-27T12:15:05.732404Z",
     "start_time": "2025-05-27T12:15:05.100169Z"
    }
   },
   "cell_type": "code",
   "source": [
    "results = pd.DataFrame({\"Target\": test[\"Target\"], \"Prediction\": preds}, index=test.index)\n",
    "results.plot(title=\"S&P 500 Tomorrow Direction Prediction\")\n",
    "plt.show()"
   ],
   "id": "25132fbb30f77545",
   "outputs": [
    {
     "data": {
      "text/plain": [
       "<Figure size 640x480 with 1 Axes>"
      ],
      "image/png": "[encoded data removed]"
     },
     "metadata": {},
     "output_type": "display_data"
    }
   ],
   "execution_count": 7
  },
  {
   "metadata": {},
   "cell_type": "code",
   "outputs": [],
   "execution_count": null,
   "source": "",
   "id": "33973d6300bb2c1a"
  }
 ],
 "metadata": {
  "kernelspec": {
   "display_name": "Python 3",
   "language": "python",
   "name": "python3"
  },
  "language_info": {
   "codemirror_mode": {
    "name": "ipython",
    "version": 2
   },
   "file_extension": ".py",
   "mimetype": "text/x-python",
   "name": "python",
   "nbconvert_exporter": "python",
   "pygments_lexer": "ipython2",
   "version": "2.7.6"
  }
 },
 "nbformat": 4,
 "nbformat_minor": 5
}
